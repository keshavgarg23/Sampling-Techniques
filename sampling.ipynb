{
 "cells": [
  {
   "cell_type": "code",
   "execution_count": 1,
   "metadata": {},
   "outputs": [],
   "source": [
    "import pandas as pd"
   ]
  },
  {
   "cell_type": "code",
   "execution_count": 2,
   "metadata": {},
   "outputs": [],
   "source": [
    "df = pd.read_csv('./Creditcard_data.csv')"
   ]
  },
  {
   "cell_type": "code",
   "execution_count": 3,
   "metadata": {},
   "outputs": [
    {
     "data": {
      "text/plain": [
       "0    763\n",
       "1      9\n",
       "Name: Class, dtype: int64"
      ]
     },
     "execution_count": 3,
     "metadata": {},
     "output_type": "execute_result"
    }
   ],
   "source": [
    "df['Class'].value_counts()"
   ]
  },
  {
   "cell_type": "code",
   "execution_count": 4,
   "metadata": {},
   "outputs": [],
   "source": [
    "X = df.iloc[:,:-1].values\n",
    "y = df.iloc[:,-1].values"
   ]
  },
  {
   "cell_type": "code",
   "execution_count": 5,
   "metadata": {},
   "outputs": [],
   "source": [
    "# Train test split"
   ]
  },
  {
   "cell_type": "code",
   "execution_count": 6,
   "metadata": {},
   "outputs": [],
   "source": [
    "from sklearn.model_selection import train_test_split\n",
    "X_train,X_test,y_train,y_test =train_test_split(X,y,test_size=0.2)"
   ]
  },
  {
   "cell_type": "code",
   "execution_count": 7,
   "metadata": {},
   "outputs": [],
   "source": [
    "# Unbalanced data set so sampling must be applied"
   ]
  },
  {
   "cell_type": "code",
   "execution_count": 8,
   "metadata": {},
   "outputs": [],
   "source": [
    "from imblearn.under_sampling import RandomUnderSampler\n",
    "from imblearn.over_sampling import RandomOverSampler\n",
    "from imblearn.under_sampling import TomekLinks\n",
    "from imblearn.over_sampling import SMOTE\n",
    "from imblearn.under_sampling import NearMiss"
   ]
  },
  {
   "cell_type": "code",
   "execution_count": 9,
   "metadata": {},
   "outputs": [],
   "source": [
    "sampling_tech = {\n",
    "    'Random-Under(U)' : RandomUnderSampler(replacement=True),\n",
    "    'Random-Over(O)' : RandomOverSampler(),\n",
    "    'Tomek(U)' : TomekLinks(sampling_strategy='majority'),\n",
    "    'SMOTE(O)' : SMOTE(),\n",
    "    'NearMiss(U)' : NearMiss()\n",
    "}"
   ]
  },
  {
   "cell_type": "code",
   "execution_count": 10,
   "metadata": {},
   "outputs": [],
   "source": [
    "# Sample size\n",
    "z = 1.96 # 95% confidence\n",
    "e = 0.05\n",
    "p = 0.05    # 5% frauds\n",
    "\n",
    "n = (z**2 * p * (1-p) )//(e**2)\n"
   ]
  },
  {
   "cell_type": "code",
   "execution_count": 11,
   "metadata": {},
   "outputs": [],
   "source": [
    "# Models\n",
    "from sklearn.neighbors import KNeighborsClassifier\n",
    "from sklearn.ensemble import RandomForestClassifier\n",
    "from xgboost import XGBClassifier\n",
    "from sklearn.svm import SVC\n",
    "from sklearn.naive_bayes import GaussianNB"
   ]
  },
  {
   "cell_type": "code",
   "execution_count": 12,
   "metadata": {},
   "outputs": [],
   "source": [
    "models = {\n",
    "    'KNN' : KNeighborsClassifier(n_neighbors=3),\n",
    "    'Random Forest' : RandomForestClassifier(n_estimators=100,criterion='entropy'),\n",
    "    'XGB': XGBClassifier(),\n",
    "    'SVC' : SVC(),\n",
    "    'Naive Bayes' : GaussianNB(),\n",
    "}"
   ]
  },
  {
   "cell_type": "code",
   "execution_count": 13,
   "metadata": {},
   "outputs": [],
   "source": [
    "def get_random_n(X,y,n):\n",
    "    X = pd.DataFrame(X)\n",
    "    y = pd.DataFrame(y)\n",
    "    df = pd.concat((X,y),axis=1).sample(int(n),replace=True)\n",
    "    return df.iloc[:,:-1].values,df.iloc[:,-1].values"
   ]
  },
  {
   "cell_type": "code",
   "execution_count": 14,
   "metadata": {},
   "outputs": [
    {
     "data": {
      "text/html": [
       "<div>\n",
       "<style scoped>\n",
       "    .dataframe tbody tr th:only-of-type {\n",
       "        vertical-align: middle;\n",
       "    }\n",
       "\n",
       "    .dataframe tbody tr th {\n",
       "        vertical-align: top;\n",
       "    }\n",
       "\n",
       "    .dataframe thead th {\n",
       "        text-align: right;\n",
       "    }\n",
       "</style>\n",
       "<table border=\"1\" class=\"dataframe\">\n",
       "  <thead>\n",
       "    <tr style=\"text-align: right;\">\n",
       "      <th></th>\n",
       "      <th>Random-Under(U)</th>\n",
       "      <th>Random-Over(O)</th>\n",
       "      <th>Tomek(U)</th>\n",
       "      <th>SMOTE(O)</th>\n",
       "      <th>NearMiss(U)</th>\n",
       "    </tr>\n",
       "  </thead>\n",
       "  <tbody>\n",
       "    <tr>\n",
       "      <th>KNN</th>\n",
       "      <td>0.619355</td>\n",
       "      <td>0.800000</td>\n",
       "      <td>0.980645</td>\n",
       "      <td>0.548387</td>\n",
       "      <td>0.116129</td>\n",
       "    </tr>\n",
       "    <tr>\n",
       "      <th>Random Forest</th>\n",
       "      <td>0.619355</td>\n",
       "      <td>0.948387</td>\n",
       "      <td>0.980645</td>\n",
       "      <td>0.903226</td>\n",
       "      <td>0.496774</td>\n",
       "    </tr>\n",
       "    <tr>\n",
       "      <th>XGB</th>\n",
       "      <td>0.490323</td>\n",
       "      <td>0.903226</td>\n",
       "      <td>0.980645</td>\n",
       "      <td>0.838710</td>\n",
       "      <td>0.212903</td>\n",
       "    </tr>\n",
       "    <tr>\n",
       "      <th>SVC</th>\n",
       "      <td>0.690323</td>\n",
       "      <td>0.761290</td>\n",
       "      <td>0.980645</td>\n",
       "      <td>0.116129</td>\n",
       "      <td>0.380645</td>\n",
       "    </tr>\n",
       "    <tr>\n",
       "      <th>Naive Bayes</th>\n",
       "      <td>0.890323</td>\n",
       "      <td>0.838710</td>\n",
       "      <td>0.883871</td>\n",
       "      <td>0.903226</td>\n",
       "      <td>0.354839</td>\n",
       "    </tr>\n",
       "  </tbody>\n",
       "</table>\n",
       "</div>"
      ],
      "text/plain": [
       "               Random-Under(U)  Random-Over(O)  Tomek(U)  SMOTE(O)  \\\n",
       "KNN                   0.619355        0.800000  0.980645  0.548387   \n",
       "Random Forest         0.619355        0.948387  0.980645  0.903226   \n",
       "XGB                   0.490323        0.903226  0.980645  0.838710   \n",
       "SVC                   0.690323        0.761290  0.980645  0.116129   \n",
       "Naive Bayes           0.890323        0.838710  0.883871  0.903226   \n",
       "\n",
       "               NearMiss(U)  \n",
       "KNN               0.116129  \n",
       "Random Forest     0.496774  \n",
       "XGB               0.212903  \n",
       "SVC               0.380645  \n",
       "Naive Bayes       0.354839  "
      ]
     },
     "execution_count": 14,
     "metadata": {},
     "output_type": "execute_result"
    }
   ],
   "source": [
    "from sklearn.metrics import accuracy_score\n",
    "\n",
    "final_df = {}\n",
    "\n",
    "for name,sampler in sampling_tech.items():\n",
    "    final_df[name]=[]\n",
    "    X_sampled,y_sampled = sampler.fit_resample(X_train,y_train)\n",
    "\n",
    "    if name!='Tomek(U)':    # not using sample size for Tomek links\n",
    "        X_sampled,y_sampled = get_random_n(X_sampled,y_sampled,n)\n",
    "    \n",
    "    for model_name,model in models.items():\n",
    "        model.fit(X_sampled,y_sampled)\n",
    "        y_pred = model.predict(X_test)\n",
    "        ac = accuracy_score(y_pred=y_pred,y_true=y_test)\n",
    "        final_df[name].append(ac)\n",
    "# print(final_df)\n",
    "pd.DataFrame(final_df,index=models.keys())\n",
    "    "
   ]
  }
 ],
 "metadata": {
  "kernelspec": {
   "display_name": "Python 3",
   "language": "python",
   "name": "python3"
  },
  "language_info": {
   "codemirror_mode": {
    "name": "ipython",
    "version": 3
   },
   "file_extension": ".py",
   "mimetype": "text/x-python",
   "name": "python",
   "nbconvert_exporter": "python",
   "pygments_lexer": "ipython3",
   "version": "3.10.6"
  },
  "orig_nbformat": 4,
  "vscode": {
   "interpreter": {
    "hash": "916dbcbb3f70747c44a77c7bcd40155683ae19c65e1c03b4aa3499c5328201f1"
   }
  }
 },
 "nbformat": 4,
 "nbformat_minor": 2
}
